What Is a Python Tuple?
A tuple represents a sequence of any objects separated by commas and enclosed in parentheses. A tuple is an immutable object, which means it cannot be changed, and we use it to represent fixed collections of items.

Let’s take a look at some examples of Python tuples:

* () — an empty tuple
* (1.0, 9.9, 10) — a tuple containing three numeric objects
* ('Casey', 'Darin', 'Bella', 'Mehdi') — a tuple containing four string objects
* ('10', 101, True) — a tuple containing a string, an integer, and a Boolean object
