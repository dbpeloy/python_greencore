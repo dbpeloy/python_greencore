{
 "cells": [
  {
   "cell_type": "markdown",
   "metadata": {},
   "source": [
    "# Python en Linux\n",
    "\n",
    "> Nota: Esto es una Libreta de Jupyter Notebook para Bash, no para Python3\n",
    "\n",
    "Para utilizar Python en Linux, es posible que sea necesario instalarlo:"
   ]
  },
  {
   "cell_type": "code",
   "execution_count": null,
   "metadata": {},
   "outputs": [],
   "source": [
    "sudo apt-get install python3 python3-pip"
   ]
  },
  {
   "cell_type": "markdown",
   "metadata": {},
   "source": [
    "Esto para distribuciones basadas en Debian como puede ser Ubuntu.\n",
    "\n",
    "Para otras distribuciones:\n",
    "```bash\n",
    "# Fedora\n",
    "sudo dnf install python3\n",
    "# CentOS o RedHat\n",
    "sudo yum install python3\n",
    "```\n",
    "\n",
    "Ahora, debemos crear un directorio para nuestro proyecto de código fuente. Puede utilizar las herramientas gráficas así como la terminal.\n",
    "\n",
    "Recordando algunos comandos útiles para este ejercicio:\n",
    "\n",
    "```bash\n",
    "# Consultar el directorio actual\n",
    "pwd\n",
    "\n",
    "# Crear directorios\n",
    "mkdir directorio\n",
    "\n",
    "# Entrar en el directorio\n",
    "cd directorio\n",
    "\n",
    "# Crear archivos vacíos\n",
    "touch archivo\n",
    "```"
   ]
  },
  {
   "cell_type": "code",
   "execution_count": null,
   "metadata": {},
   "outputs": [],
   "source": [
    "# Creamos directorio para proyecto\n",
    "mkdir proyecto_python\n",
    "\n",
    "# Entramos en directorio\n",
    "cd proyecto_python\n",
    "\n",
    "# Con la herramienta virtualenv, solicitamos un ambiente virtual al directorio \"venv\" dentro del proyecto\n",
    "virtualenv -p python3 venv\n",
    "\n",
    "# Desde una terminal, activamos nuestro ambiente virtual\n",
    "source venv/bin/activate"
   ]
  },
  {
   "cell_type": "markdown",
   "metadata": {},
   "source": [
    "Podemos notar ahora por el texto \"**(venv)**\" que nos encontramos dentro de un ambiente virtual de Python.\n",
    "\n",
    "Esto nos va a ser muy útil a la hora de instalar módulos con Python utilizando la herramienta ``pip``.\n",
    "\n",
    "## Instalación global vs local\n",
    "\n",
    "Cualquier módulo de Python que se instale por medio de la herramienta pip, va a quedar instalada solamente en el ambiente virtual del venv, dado que ya realizamos la activación del ambiente.\n",
    "\n",
    "Si desea realizar la instalación de un paquete de Python para todo el sistema operativo, debe realizarlo en una terminal donde no esté activo el ambiente virtual.\n",
    "\n",
    "## Herramienta pip\n",
    "\n",
    "Para instalar módulos de Python, simplemente vamos a digitar el nombre de los módulos que necesitamos, luego de la palabra install."
   ]
  },
  {
   "cell_type": "code",
   "execution_count": null,
   "metadata": {},
   "outputs": [],
   "source": [
    "pip3 install mu-editor"
   ]
  },
  {
   "cell_type": "code",
   "execution_count": null,
   "metadata": {},
   "outputs": [],
   "source": [
    "# Instalación de geopandas, para procesamiento geoespacial\n",
    "pip3 install geopandas"
   ]
  },
  {
   "cell_type": "code",
   "execution_count": null,
   "metadata": {},
   "outputs": [],
   "source": [
    "# Instalación de Planet, para servicio de imágenes satelitales\n",
    "pip3 install planet"
   ]
  },
  {
   "cell_type": "code",
   "execution_count": null,
   "metadata": {},
   "outputs": [],
   "source": [
    "# Instalación de Flask, para sitios web\n",
    "pip3 install flask"
   ]
  },
  {
   "cell_type": "code",
   "execution_count": null,
   "metadata": {},
   "outputs": [],
   "source": [
    "# Instalación de Blinka, para usar librerías de CircuitPython, en tarjetas como la Raspberry Pi\n",
    "# Nota: Falla dentro de ambiente virtual, dado que requiere instalar herramientas de sistema\n",
    "pip3 install adafruit-blinka"
   ]
  }
 ],
 "metadata": {
  "kernelspec": {
   "display_name": "Bash",
   "language": "bash",
   "name": "bash"
  },
  "language_info": {
   "codemirror_mode": "shell",
   "file_extension": ".sh",
   "mimetype": "text/x-sh",
   "name": "bash"
  }
 },
 "nbformat": 4,
 "nbformat_minor": 2
}
