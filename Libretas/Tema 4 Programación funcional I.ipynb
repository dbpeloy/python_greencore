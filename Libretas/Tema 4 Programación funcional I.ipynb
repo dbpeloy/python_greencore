{
 "cells": [
  {
   "cell_type": "markdown",
   "metadata": {},
   "source": [
    "# Programación funcional I\n",
    "\n",
    "Hasta el momento hemos venido utilizando funciones que han sido escritas por alguien más, cuando escribimos código como:"
   ]
  },
  {
   "cell_type": "code",
   "execution_count": 3,
   "metadata": {},
   "outputs": [
    {
     "name": "stdout",
     "output_type": "stream",
     "text": [
      "hola\n",
      "3\n"
     ]
    }
   ],
   "source": [
    "print(\"hola\")     # Función print()\n",
    "print(int(3.14))  # Función int()"
   ]
  },
  {
   "cell_type": "markdown",
   "metadata": {},
   "source": [
    "Estas se conocen como funciones 'built-in', dado que son parte de la base de Python y no requieren agregar librerías adicionales.\n",
    "\n",
    "En otros casos, podemos importar librerías para utilizar funciones que se encuentran dentro de ellas, como la librería de ``time``."
   ]
  },
  {
   "cell_type": "code",
   "execution_count": 9,
   "metadata": {},
   "outputs": [
    {
     "name": "stdout",
     "output_type": "stream",
     "text": [
      "....................\n",
      "......."
     ]
    },
    {
     "ename": "KeyboardInterrupt",
     "evalue": "",
     "output_type": "error",
     "traceback": [
      "\u001b[0;31m---------------------------------------------------------------------------\u001b[0m",
      "\u001b[0;31mKeyboardInterrupt\u001b[0m                         Traceback (most recent call last)",
      "Cell \u001b[0;32mIn[9], line 11\u001b[0m\n\u001b[1;32m      9\u001b[0m \u001b[38;5;28;01mfor\u001b[39;00m i \u001b[38;5;129;01min\u001b[39;00m \u001b[38;5;28mrange\u001b[39m(\u001b[38;5;241m20\u001b[39m):\n\u001b[1;32m     10\u001b[0m     \u001b[38;5;28mprint\u001b[39m(\u001b[38;5;124m\"\u001b[39m\u001b[38;5;124m.\u001b[39m\u001b[38;5;124m\"\u001b[39m, end\u001b[38;5;241m=\u001b[39m\u001b[38;5;124m'\u001b[39m\u001b[38;5;124m'\u001b[39m)\n\u001b[0;32m---> 11\u001b[0m     \u001b[43mtime\u001b[49m\u001b[38;5;241;43m.\u001b[39;49m\u001b[43msleep\u001b[49m\u001b[43m(\u001b[49m\u001b[38;5;241;43m2\u001b[39;49m\u001b[43m)\u001b[49m\n\u001b[1;32m     12\u001b[0m \u001b[38;5;28mprint\u001b[39m(\u001b[38;5;124m\"\u001b[39m\u001b[38;5;124m\"\u001b[39m)\n",
      "\u001b[0;31mKeyboardInterrupt\u001b[0m: "
     ]
    }
   ],
   "source": [
    "# Sin pausas\n",
    "for i in range(20):\n",
    "    print(\".\", end='')\n",
    "print(\"\")\n",
    "\n",
    "# Con pausas\n",
    "import time\n",
    "\n",
    "for i in range(20):\n",
    "    print(\".\", end='')\n",
    "    time.sleep(2)\n",
    "print(\"\")\n"
   ]
  },
  {
   "cell_type": "markdown",
   "metadata": {},
   "source": [
    "Para poder crear nuestras propias funciones, lo demos realizar directamente dentro de nuestro código de la siguiente manera:\n",
    "\n",
    "```python\n",
    "def nombre_de_funcion(parámetro1, parámetro2):\n",
    "    operacion1()\n",
    "    operacion2()\n",
    "```"
   ]
  },
  {
   "cell_type": "code",
   "execution_count": null,
   "metadata": {},
   "outputs": [],
   "source": [
    "# Parámetros a y b, los cuales suma\n",
    "def suma(a, b):\n",
    "    print(a+b)"
   ]
  },
  {
   "cell_type": "markdown",
   "metadata": {},
   "source": [
    "Como la función ya se encuentra definida, ahora podemos utilizar la función suma() en cualquier parte de nuestro código, recordando utilizar dos parámetros numéricos para la función."
   ]
  },
  {
   "cell_type": "code",
   "execution_count": null,
   "metadata": {},
   "outputs": [],
   "source": [
    "suma(1,2)"
   ]
  },
  {
   "cell_type": "markdown",
   "metadata": {},
   "source": [
    "### Return\n",
    "\n",
    "En algunos casos queremos enviar información a una función, que este pueda procesar la información y luego retornar un valor el cual podemos manipular en la porción principal de nuestra aplicación:"
   ]
  },
  {
   "cell_type": "code",
   "execution_count": null,
   "metadata": {},
   "outputs": [],
   "source": [
    "def resta(a, b):\n",
    "    resultado = a - b\n",
    "    return resultado"
   ]
  },
  {
   "cell_type": "markdown",
   "metadata": {},
   "source": [
    "Ahora la diferencia a la hora de utilizar esta función con return, es que ahora debemos almacenar el dato o procesarlo:"
   ]
  },
  {
   "cell_type": "code",
   "execution_count": null,
   "metadata": {},
   "outputs": [],
   "source": [
    "final = resta(10,5)\n",
    "print(final)"
   ]
  },
  {
   "cell_type": "markdown",
   "metadata": {},
   "source": [
    "Otro uso interesante de return, es cuando lo utilizamos para retornar valores de tipo booleano:"
   ]
  },
  {
   "cell_type": "code",
   "execution_count": null,
   "metadata": {},
   "outputs": [],
   "source": [
    "def compara_clave(real, intento):\n",
    "    if real == intento:\n",
    "        return True\n",
    "    else:\n",
    "        return False\n",
    "\n",
    "clave_secreta = 'mi clave segura'\n",
    "\n",
    "intento_clave = input(\"Escriba su clave secreta: \")\n",
    "\n",
    "if compara_clave(clave_secreta, intento_clave):\n",
    "    print(\"Acceso permitido\")\n",
    "else:\n",
    "    print(\"Acceso denegado\")"
   ]
  },
  {
   "cell_type": "markdown",
   "metadata": {},
   "source": [
    "### Ejercicio\n",
    "\n",
    "Antes de continuar, vamos a mejorar un ejercicio anterior. Vamos de nuevo a imprimir los número del 1-100, indicando cuales son divisibles entre 2, 3 y 5; con las siguientes mejoras:\n",
    "\n",
    "1. Utilice ``print(\"mensaje\", end='')`` para eliminar los saltos de línea, y ``\\t`` para mejor formato\n",
    "2. Transforme la comparación de si es divisible, en una función\n",
    "3. En lugar de tener varios ``if`` que consultan si es divisible, convierta el código para utilizar un ciclo ``for``\n",
    "4. Cree una variable de tipo lista, la cual incluye los números que vamos a revisar si son divisibles"
   ]
  },
  {
   "cell_type": "code",
   "execution_count": null,
   "metadata": {},
   "outputs": [],
   "source": [
    "# Código anterior. Realice aquí las mejoras\n",
    "\n",
    "for i in range(1,101):\n",
    "    print(i)\n",
    "    if i % 2 == 0:\n",
    "        print(\"divisible entre dos\")\n",
    "    if i % 3 == 0:\n",
    "        print(\"divisible entre tres\")\n",
    "    if i % 5 == 0:\n",
    "        print(\"divisible entre cinco\")\n"
   ]
  },
  {
   "cell_type": "markdown",
   "metadata": {},
   "source": [
    "## Librería\n",
    "\n",
    "Para crear una librería, primero es buena idea que nos acostumbremos a trabajar con archivos de código fuente.\n",
    "\n",
    "Para ello, vamos a trabajar con un archivo principal (se puede llamar ``code.py``, ``main.py`` o cualquier otro nombre), al que vamos a agregar una librería en un archivo separado en el mismo directorio (por ejemplo ``libreria.py``).\n",
    "\n",
    "Una estructura típica de un archivo principal es:\n",
    "\n",
    "```python\n",
    "Comentarios\n",
    "Objetivo\n",
    "Autor\n",
    "Fechas de creación y modificación\n",
    "Licencia de software\n",
    "\n",
    "Estatutos import\n",
    "\n",
    "Definición de clases\n",
    "Definición de funciones\n",
    "Definición de \"main\" (programa principal)\n",
    "\n",
    "```\n",
    "\n",
    "Por ejemplo:\n",
    "```python\n",
    "# Aplicacion calculadora\n",
    "# Utilizada como ejemplo de liberías en Python3\n",
    "# Escrita por Alvaro Figueroa para Greencore Solutions\n",
    "# 2018, 2019\n",
    "# Software libre GPLv3\n",
    "\n",
    "import calculadora\n",
    "\n",
    "def funcion_local:\n",
    "    print(\"funcion de ejemplo\")\n",
    "    \n",
    "funcion_local()\n",
    "print(calculadora.suma(2,3))\n",
    "\n",
    "```"
   ]
  },
  {
   "cell_type": "markdown",
   "metadata": {},
   "source": [
    "En este caso como estamos importando una librería llamada ``calculadora``, es necesario tener un archivo llamado ``calculadora.py`` en el directorio de trabajo.\n",
    "\n",
    "El archivo ``calculadora.py`` tiene las funciones que vamos a utiliza para crear nuestra calculadora.\n",
    "\n",
    "### Ejercicio\n",
    "\n",
    "1. Cree un archivo ``code.py`` y un archivo de ``calculadora.py`` en la CircuitPlayground.\n",
    "\n",
    "2. En ``calculadora.py`` defina funciones que retornen un resultado y reciban dos números.\n",
    "\n",
    "\n",
    "```python\n",
    "- Suma\n",
    "- Resta\n",
    "- Multiplicación\n",
    "- División\n",
    "```\n",
    "\n",
    "3. Escriba una función que verifique que los valores a calcular, son números (ya sea tipo int o float).\n",
    "\n",
    "4. En el código principal, utilice la función ``input()`` para solicitar dos valores. Luego solicite la operación a realizar. Ahora complete el código de forma tal que dependiendo la operación, calcule los valores e imprima un resultado."
   ]
  }
 ],
 "metadata": {
  "kernelspec": {
   "display_name": "Python 3 (ipykernel)",
   "language": "python",
   "name": "python3"
  },
  "language_info": {
   "codemirror_mode": {
    "name": "ipython",
    "version": 3
   },
   "file_extension": ".py",
   "mimetype": "text/x-python",
   "name": "python",
   "nbconvert_exporter": "python",
   "pygments_lexer": "ipython3",
   "version": "3.9.16"
  }
 },
 "nbformat": 4,
 "nbformat_minor": 2
}
