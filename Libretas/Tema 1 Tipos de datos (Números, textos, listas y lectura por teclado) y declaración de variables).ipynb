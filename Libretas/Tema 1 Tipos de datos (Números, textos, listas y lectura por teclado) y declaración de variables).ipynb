{
 "cells": [
  {
   "cell_type": "markdown",
   "metadata": {},
   "source": [
    "# Introducción a la programación con Python 3.\n",
    "\n",
    "## Tipos de datos (Números, textos, listas y lectura por teclado) y declaración de variables\n",
    "\n",
    "Sin preocuparnos por virtualenv por el momento, sacamos una terminal, la cual comenzamos por verificar si Python se encuentra instalado, y en que versión, ejecutando:\n",
    "\n",
    "```\n",
    "python --version\n",
    "```\n",
    "\n",
    "Python2 se considera obsoleto y cualquier código que exista para esta versión, deber ser migrado hacia Python3 según este [reloj contador](https://pythonclock.org/).\n",
    "\n",
    "Podemos también ejecutar el comando ``python3`` para ser claros con la versión que debemos ejecutar, dado que algunas distribuciones de Linux han sido un poco lentas para promover Python3.\n",
    "\n",
    "Ahora, vamos a ir ejecutando porciones de código tanto en el REPL (Read-Eval-Print Loop), como dentro de Jupyter Notebook, la cual está ejecutando un kernel para python3, solamente colocándonos encima de la celda, y presionando **Shift+Enter**.\n",
    "\n",
    "## Comentarios en código\n",
    "\n",
    "Es importante ir anotando nuestro código, tanto mientras vamos aprendiendo, para recordar lo que significa o hace una porción de código, pero también en código profesional, para hacerlo fácil de leer y mantenible.\n",
    "\n",
    "Tenemos tanto comentarios de una sola línea, como comenarios multi-línea."
   ]
  },
  {
   "cell_type": "code",
   "execution_count": null,
   "metadata": {},
   "outputs": [],
   "source": [
    "print (\"\") # Este es un comentario en línea\n",
    "\n",
    "'''\n",
    "Esto es\n",
    "un comentario multilínea\n",
    "'''"
   ]
  },
  {
   "cell_type": "markdown",
   "metadata": {},
   "source": [
    "## Definiendo variables\n",
    "\n",
    "Las variables permiten pasar de simples recetas de tejido, a código que puede prededir el futuro, adaptarse a lectura de sensores, código mantenible, pensamiento en objetos, etc.\n",
    "\n",
    "En este caso creamos 2 variables, luego ejecutamos una operación con ellas y las guardamos en una tercera variable. Por último, imprimimos la varible final.\n",
    "\n",
    "Realice cambios en los valores de las variables iniciales, y ejecute el código de nuevo."
   ]
  },
  {
   "cell_type": "code",
   "execution_count": null,
   "metadata": {},
   "outputs": [],
   "source": [
    "a = 10 #le asigne el valor de 10 a la a\n",
    "b = 20 #le asigne el valor de 20 a la b\n",
    "c = a+b #sumamos la variable de a mas b\n",
    "print(c) #le mostramos el valor de c a los usuarios"
   ]
  },
  {
   "cell_type": "markdown",
   "metadata": {},
   "source": [
    "## Tipos de variables\n",
    "Para crear una variable en Python, todo lo que necesita hacer es especificar el nombre de la variable y luego asignarle un valor.\n",
    "\n",
    "<variable name> = <value>\n",
    "\n",
    "Python usa = para asignar valores a las variables. No es necesario declarar una variable por\n",
    "adelantado (o asignarle un tipo de datos), al asignar un valor a una variable, se declara e inicializa\n",
    "la variable con ese valor. No hay forma de declarar una variable sin asignarle un valor inicial.\n",
    "\n",
    "Ejecute el siguiente código en el REPL, para que sea más clara la salida en cada ``print()``."
   ]
  },
  {
   "cell_type": "code",
   "execution_count": null,
   "metadata": {},
   "outputs": [],
   "source": [
    "# Integer\n",
    "a = 2\n",
    "print(a)\n",
    "\n",
    "# Integer\n",
    "b = 9223372036854775807\n",
    "print(b)\n",
    "\n",
    "# Floating point\n",
    "pi = 3.14\n",
    "print(pi)\n",
    "\n",
    "# String\n",
    "c = 'A'\n",
    "print(c)\n",
    "\n",
    "# String\n",
    "name = 'John Doe'\n",
    "print(name)\n",
    "\n",
    "# Boolean\n",
    "q = True\n",
    "print(q)\n",
    "\n",
    "# Empty value or null data type\n",
    "x = None\n",
    "print(x)\n"
   ]
  },
  {
   "cell_type": "markdown",
   "metadata": {},
   "source": [
    "## Valores reservados\n",
    "\n",
    "A la hora de definir **nombres** de variable, no puede utilizar cualquiera, dado que existen algunas palabras reservadas por el lenguaje, las cuales debe evitar."
   ]
  },
  {
   "cell_type": "code",
   "execution_count": null,
   "metadata": {},
   "outputs": [],
   "source": [
    "#No puede utilizar palabras clave de python como un nombre de variable válido. Puedes ver la lista de palabras clave por:\n",
    "import keyword\n",
    "print(keyword.kwlist)"
   ]
  },
  {
   "cell_type": "markdown",
   "metadata": {},
   "source": [
    "Reglas para nombrar variables:\n",
    "1. Los nombres de las variables deben comenzar con una letra o un guión bajo.\n",
    "\n",
    "x = True\n",
    "_y = True\n",
    "\n",
    "2. El resto de su nombre de variable puede consistir en letras, números y guiones bajos.\n",
    "\n",
    "has_0_in_it = \"Still Valid\"\n",
    "\n",
    "3. Los nombres son mayúsculas y minúsculas.\n",
    "\n",
    "x = 9\n",
    "y = X*5\n",
    "\n",
    "\n",
    "Aunque no es necesario especificar un tipo de datos al declarar una variable en Python, mientras\n",
    "se asigna el área necesaria en la memoria para la variable, el intérprete de Python selecciona\n",
    "automáticamente el tipo incorporado más adecuado para ella:\n",
    "  \n",
    "Ejecute el siguiente código en el REPL, para que sea más clara la salida en cada ``print()``."
   ]
  },
  {
   "cell_type": "code",
   "execution_count": 1,
   "metadata": {},
   "outputs": [
    {
     "name": "stdout",
     "output_type": "stream",
     "text": [
      "<class 'int'>\n",
      "<class 'int'>\n",
      "<class 'float'>\n",
      "<class 'str'>\n",
      "<class 'str'>\n",
      "<class 'bool'>\n",
      "<class 'NoneType'>\n"
     ]
    }
   ],
   "source": [
    "a = 2\n",
    "print(type(a))\n",
    "\n",
    "b = 9223372036854775807\n",
    "print(type(b))\n",
    "\n",
    "pi = 3.14\n",
    "print(type(pi))\n",
    "\n",
    "c = 'A'\n",
    "print(type(c))\n",
    "\n",
    "name = 'John Doe'\n",
    "print(type(name))\n",
    "\n",
    "q = True\n",
    "print(type(q))\n",
    "\n",
    "x = None\n",
    "print(type(x))"
   ]
  },
  {
   "cell_type": "markdown",
   "metadata": {},
   "source": [
    "Puede asignar múltiples valores a múltiples variables en una línea. Tenga en cuenta que debe haber el mismo número de argumentos en los lados derecho e izquierdo del operador ```=```\n"
   ]
  },
  {
   "cell_type": "code",
   "execution_count": null,
   "metadata": {},
   "outputs": [],
   "source": [
    "a, b, c = 1, 2, 3\n",
    "print(a, b, c)"
   ]
  },
  {
   "cell_type": "markdown",
   "metadata": {},
   "source": [
    "## Datos desde el teclado\n",
    "\n",
    "Este ejemplo **no** funciona desde Jupyter Notebook, y solo se debe ejecutar en el REPL.\n",
    "\n",
    "En este ejemplo no solamente vamos a leer los datos de teclado, sino que también vamos a ajustarlos, en un caso para encasillarlo como un entero, y en otro como número de punto flotante."
   ]
  },
  {
   "cell_type": "code",
   "execution_count": null,
   "metadata": {},
   "outputs": [],
   "source": [
    "salario = int(input())\n",
    "'''int es para decirle a la computadora que va a utilizar un numero entero y input es para solicitarle al usuario que ingrese un numero'''\n",
    "\n",
    "carga_social = float(0.3) #float es para decirle a la computadora que va a usar un numero flotante 0.00\n",
    "\n",
    "print(salario+(salario*carga_social))#toma la variable salario y le suma el 30% de cargas sociales"
   ]
  },
  {
   "cell_type": "code",
   "execution_count": null,
   "metadata": {},
   "outputs": [],
   "source": [
    "nombre = input(\"cual es su nombre \")\n",
    "edad = input(\"que edad tienes \")\n",
    "\n",
    "print(nombre + \" tienes la edad de \" + edad)"
   ]
  },
  {
   "cell_type": "markdown",
   "metadata": {},
   "source": [
    "# Listas\n",
    "\n",
    "También existen tipos de datos más complejos como las listas, las cuales podemos utilizar para almacenar varios datos, los cuales podemos llamar, usando un índice como referencia."
   ]
  },
  {
   "cell_type": "code",
   "execution_count": null,
   "metadata": {},
   "outputs": [],
   "source": [
    "lista = [\"azul\", \"rojo\", \"verde\"]\n",
    "print (lista)\n",
    "print (lista[0])\n",
    "print (lista[2])\n",
    "# print (lista[3]) # Elimine el comentario, y ejecute para observar un error 'index out of range'\n"
   ]
  },
  {
   "cell_type": "markdown",
   "metadata": {},
   "source": [
    "## Listas anidadas\n",
    "\n",
    "Las listas anidadas también son válidas en python. Esto significa que una lista puede contener otra lista como un elemento."
   ]
  },
  {
   "cell_type": "code",
   "execution_count": null,
   "metadata": {},
   "outputs": [],
   "source": [
    "x = [1, 2, [3, 4, 5], 6, 7] \n",
    "print (x[2])"
   ]
  }
 ],
 "metadata": {
  "kernelspec": {
   "display_name": "Python 3 (ipykernel)",
   "language": "python",
   "name": "python3"
  },
  "language_info": {
   "codemirror_mode": {
    "name": "ipython",
    "version": 3
   },
   "file_extension": ".py",
   "mimetype": "text/x-python",
   "name": "python",
   "nbconvert_exporter": "python",
   "pygments_lexer": "ipython3",
   "version": "3.9.16"
  }
 },
 "nbformat": 4,
 "nbformat_minor": 2
}
