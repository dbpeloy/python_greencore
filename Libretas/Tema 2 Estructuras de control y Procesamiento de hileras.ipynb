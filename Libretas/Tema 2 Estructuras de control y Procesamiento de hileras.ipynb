{
 "cells": [
  {
   "cell_type": "markdown",
   "metadata": {},
   "source": [
    "# Estructuras de control \n",
    "\n",
    "## Identación\n",
    "\n",
    "En otros lenguajes de programación se utilizan los corchetes \"{}\" y terminadores de instrucción como el punto-y-coma \";\".\n",
    "\n",
    "En Python se utiliza la identación \"por sangría\" para definir que partes de código pertenecen a que estructura de control. Esto contribuye a la legibilidad de Python, sin embargo, requiere que el programador preste mucha atención al uso del espacio en blanco.\n",
    "\n",
    "Python usa el símbolo de dos puntos ( : ) y sangría para mostrar dónde bloques de código empiezan y terminan. Es decir, los bloques en Python, tales como funciones, bucles, cláusulas if y otras construcciones, no tienen identificadores finales. Todos los bloques comienzan con dos puntos y luego contienen las líneas sangradas debajo de él.\n",
    "\n",
    "Python 3 no permite mezclar el uso de tabulaciones y espacios para la sangría. En tal caso, se\n",
    "genera un error en tiempo de compilación: Inconsistent use of tabs and spaces in indentation y el\n",
    "programa no se ejecutará.\n",
    "\n",
    "Puede observar un ejemplo de identación, en el código para parpadear el Led simple de la Playground.\n",
    "\n",
    "```python\n",
    "import board\n",
    "import digitalio\n",
    "import time\n",
    "\n",
    "led = digitalio.DigitalInOut(board.D13)\n",
    "led.direction = digitalio.Direction.OUTPUT\n",
    "\n",
    "while True:\n",
    "        led.value = True\n",
    "        time.sleep(0.1)\n",
    "        led.value = False\n",
    "        time.sleep(0.5)\n",
    "```\n",
    "\n",
    "## Booleanos\n",
    "\n",
    "Un valor booleano de True o False . Las operaciones lógicas como and , or , not se pueden\n",
    "realizar en valores booleanos.\n",
    "\n",
    "```\n",
    "x or y\n",
    "x and y\n",
    "not x\n",
    "```\n",
    "\n",
    "booleano es también un int . El tipo bool es una subclase del tipo int y True y False son sus únicas instancias."
   ]
  },
  {
   "cell_type": "code",
   "execution_count": null,
   "metadata": {},
   "outputs": [],
   "source": [
    "x = True\n",
    "y = False\n",
    "\n",
    "print (x and y)\n",
    "print (not y)\n",
    "print (x or y)"
   ]
  },
  {
   "cell_type": "markdown",
   "metadata": {},
   "source": [
    "## Condicional if\n",
    "\n",
    "En Python puedes definir una serie de condicionales usando ``if`` para el primero, ``elif`` para condiciones adicionales, y en caso de que ninguna se cumpla, ``else``.\n",
    "\n",
    "number = 5\n",
    "if number > 2:\n",
    "    print(\"Más grande que 2.\")\n",
    "elif number < 2:\n",
    "    print(\"Más pequeño que 2.\")\n",
    "else:\n",
    "    print(\"Exáctamente 2.\")\n",
    "\n",
    "\n",
    "### Ejercicio\n",
    "\n",
    "Buscando los ejemplos de CircuitPython, realice en su tarjeta:\n",
    "\n",
    "#### 1. Ejemplo que imprima si el switch se encuentra activado\n",
    "\n",
    "#### 2. Ejemplo que indique si tanto el botón A como el botón B se encuentra apretados\n",
    "\n",
    "#### 3. Ejemplo que prende el LED sencillo, cuando se presiona cualquiera de los botones"
   ]
  },
  {
   "cell_type": "markdown",
   "metadata": {},
   "source": [
    "## ¿Case?\n",
    "\n",
    "En otros lenguajes es típico reemplazar estructuras de tipo if+elif+elif+... por estructuras de tipo case, las cuales permiten evaluar diversas condiciones y definir bloques de ejecución independientes para cada uno.\n",
    "\n",
    "Python no utiliza case, pero se forma similar podemos definir una función para que cumpla esta tarea.\n",
    "\n",
    "```python\n",
    "def switch(value):\n",
    "    if value == 1:\n",
    "        return \"uno\"\n",
    "    if value == 2:\n",
    "        return \"dos\"\n",
    "    if value == 42:\n",
    "        return \"La respuesta a la vida, el universo y todo lo demás.\"\n",
    "    raise Exception(\"¡No se encontró valor!\")\n",
    "```    \n",
    "\n",
    "\n",
    "## Ciclo for\n",
    "\n",
    "Una estructura muy útil es se ciclo ``for``, el cual permite por realizar la misma operación pero variando el valor de ``x`` en cada iteración del ciclo. Útil para procesar listas de usuarios, listas de archivos, etc.\n",
    "\n"
   ]
  },
  {
   "cell_type": "code",
   "execution_count": null,
   "metadata": {},
   "outputs": [],
   "source": [
    "for x in ['uno', 'dos', 'tres', 'cuatro']:\n",
    "    print(x)\n",
    "  "
   ]
  },
  {
   "cell_type": "markdown",
   "metadata": {},
   "source": [
    "## Range\n",
    "\n",
    "Para valores numéricos, podemos en lugar de escribir cada valor, utilizar la función llamada ``range()`` la cual se encarga de crear el rango por nosotros. El primer parámetro indica el valor inicial, y el segundo el valor donde se debe **detener**. Por esta razón aunque el parámetro es \"6\", nunca imprime el número sino que llega hasta el 5.\n"
   ]
  },
  {
   "cell_type": "code",
   "execution_count": null,
   "metadata": {},
   "outputs": [],
   "source": [
    "for x in range(1, 6):\n",
    "    print(x)"
   ]
  },
  {
   "cell_type": "markdown",
   "metadata": {},
   "source": [
    "### Ejercicio\n",
    "\n",
    "La función de ``range()`` tiene un tercer parámetro opcional que indica cuanto debe incrementar el número en cada ciclo.\n",
    "\n",
    "#### Modifique el ejemplo de forma que cuente de 10 en 10, hasta el número 100.\n",
    "\n",
    "## Ciclo while\n",
    "\n",
    "En algunos casos usaremos ciclos de tipo for, y en otros casos ciclos de tipo ``while``. La diferencia importante es que en while utilizamos una **condición de parada** para el ciclo, o sea, while se ejecuta repetidamente, hasta que la condición se cumpla.\n",
    "\n",
    "Podemos utilizar los símbolos de comparación que ya hemos estudiado, así como booleanos y sus operadores (and, or, xor, not, etc)"
   ]
  },
  {
   "cell_type": "code",
   "execution_count": null,
   "metadata": {},
   "outputs": [],
   "source": [
    "i = 0\n",
    "while i < 10:\n",
    "    print(i)\n",
    "    i += 1\n",
    "print (\"El ciclo ya terminó\")"
   ]
  },
  {
   "cell_type": "markdown",
   "metadata": {},
   "source": [
    "## break en while\n",
    "\n",
    "En algunas ocaciones es necesario crear condiciones especiales, las cuales detienen el ciclo de forma inmediata. En este ejemplo, detenemos el ciclo si el valor es exáctamente 4. Este ejemplo es meramente académico, por lo cual luego veremos otros ejemplos de uso de break para mayor claridad.\n",
    "\n"
   ]
  },
  {
   "cell_type": "code",
   "execution_count": null,
   "metadata": {},
   "outputs": [],
   "source": [
    "i = 0\n",
    "\n",
    "while i < 7:\n",
    "    print(i)\n",
    "    if i == 4:\n",
    "        print(\"Interrumpimos el ciclo\")\n",
    "        break\n",
    "    i += 1\n",
    "print(\"i nunca se incrementó, por lo cual tiene un valor de \", i)"
   ]
  },
  {
   "cell_type": "markdown",
   "metadata": {},
   "source": [
    "## break en for\n",
    "\n",
    "De forma similar también podemos interrumpir una ejecución de un bloque tipo for, utilizando break."
   ]
  },
  {
   "cell_type": "code",
   "execution_count": null,
   "metadata": {},
   "outputs": [],
   "source": [
    "for i in (0, 1, 2, 3, 4):\n",
    "    print(i)\n",
    "    if i == 2:\n",
    "        break"
   ]
  },
  {
   "cell_type": "markdown",
   "metadata": {},
   "source": [
    "## continue en ciclos\n",
    "\n",
    "Similar a break, existe la operación de ``continue``, la cual le instruye al ciclo a omitir la iteración actual, brincando inmediatamente a la siguiente iteración, en lugar de detenerse como lo haría break.\n",
    "\n",
    "En este ejemplo, podemos observar como **no** se ejecuta el ``print(i)`` para los números 2 o 4."
   ]
  },
  {
   "cell_type": "code",
   "execution_count": null,
   "metadata": {},
   "outputs": [],
   "source": [
    "for i in (0, 1, 2, 3, 4, 5):\n",
    "    if i == 2 or i == 4:\n",
    "        continue\n",
    "    print(i)"
   ]
  },
  {
   "cell_type": "markdown",
   "metadata": {},
   "source": [
    "## Ciclos anidados\n",
    "\n",
    "Es típico correr un ciclo dentro de otro, los cuales pueden ser de tipo for, while o mixtos.\n",
    "\n",
    "El propósito puede ser ejecutar el ciclo hasta que dos condiciones se cumplan, usando dos ``while``; o usando variables diferentes las que vamos incrementando de forma independiente en ciclos de tipo ``for``.\n",
    "\n",
    "Algo importante es que ``break`` en python solo tiene la capacidad de romper el bloque **interno**, y no sabe como manejar diferentes capas de anidación. De ser necesario puede realizar construcciones más avanzadas utilizando tanto ``break`` como ``return``."
   ]
  },
  {
   "cell_type": "code",
   "execution_count": null,
   "metadata": {},
   "outputs": [],
   "source": [
    "for i in range(1,10):\n",
    "    for j in range(1,5):\n",
    "        if j == 3:\n",
    "            break\n",
    "        print(i,j)"
   ]
  },
  {
   "cell_type": "markdown",
   "metadata": {},
   "source": [
    "## Else en ciclos\n",
    "\n",
    "Las declaraciones ``for`` y ``while`` pueden tener opcionalmente una cláusula ``else``.\n",
    "El ``else`` cláusula sólo se ejecuta después que termina en ``for`` luego de recorrer sus iteraciones de forma normal, o después de un ``while`` bucle termina por su expresión condicional convertirse en falsa."
   ]
  },
  {
   "cell_type": "code",
   "execution_count": null,
   "metadata": {},
   "outputs": [],
   "source": [
    "for i in range(3):\n",
    "  print(i)\n",
    "else:\n",
    "  print('Termina for')\n",
    "\n",
    "i = 0\n",
    "\n",
    "while i < 3:\n",
    "  print(i)\n",
    "  i += 1\n",
    "else:\n",
    "  print('Termina while')"
   ]
  },
  {
   "cell_type": "markdown",
   "metadata": {},
   "source": [
    "## Diccionarios e iteración\n",
    "\n",
    "Vamos a introducir brevemente un tipo de dato llamado diccionario, el cual luego aprenderemos varias operaciones que podemos ejecutar sobre los mismos. Por ahora vamos a definir un diccionario, y luego a utilizar ciclos para poderlo recorrer.\n",
    "\n",
    "Para recorrerlo vamos a utilizar una operación especial para diccionarios que se llama ``key`` la cual devuelve el valor con el que hacemos referencia.\n",
    "\n",
    "Observe como en el mismo ciclo, imprimimos el valor que se encuentra referenciado por la llave, el cual llamamos usando el nombre de la variable \"d\", llaves cuadradas \"[]\", y la referencia, de forma \"d[key]\"."
   ]
  },
  {
   "cell_type": "code",
   "execution_count": null,
   "metadata": {
    "scrolled": true
   },
   "outputs": [],
   "source": [
    "# Creamos diccionario\n",
    "d = {\"a\": 1, \"b\": 2, \"c\": 3}\n",
    "\n",
    "for key in d:\n",
    "    print(\"Llave:\", key, \"Valor:\", d[key])"
   ]
  },
  {
   "cell_type": "markdown",
   "metadata": {},
   "source": [
    "## Formato en impresión\n",
    "\n",
    "Conforme avanza el curso veremos otros trucos para acomodar los valores a imprimir, y en esta sesión veremos como acomodar en columnas, utilizando ``\\t`` para imprimir un **tab**.\n",
    "\n",
    "Esta aplicación toma los números del 1 al 13 y utilizando operaciones matemáticas realiza la potencia de 2 elevado al número indicado por el ciclo while."
   ]
  },
  {
   "cell_type": "code",
   "execution_count": null,
   "metadata": {},
   "outputs": [],
   "source": [
    "x = 1\n",
    "while x < 13:\n",
    "    print (x, '\\t', 2**x)\n",
    "    x += 1"
   ]
  },
  {
   "cell_type": "markdown",
   "metadata": {},
   "source": [
    "## Ejercicios\n",
    "\n",
    "### Ejercicio de mate\n",
    "\n",
    "Imprima los números del 1 al 100, agregando un caracter especial si el número es divisible entre 2, 3 o 5."
   ]
  },
  {
   "cell_type": "code",
   "execution_count": null,
   "metadata": {},
   "outputs": [],
   "source": [
    "# Agregue aquí el código para el ejercicio de mate\n",
    "\n",
    "\n"
   ]
  },
  {
   "cell_type": "markdown",
   "metadata": {},
   "source": [
    "### Ejercicio ¿For o while?\n",
    "\n",
    "El ejemplo anterior de impresión, fue escrito con ``while``. ¿Es posible modificarlo para que utilice ``for`` en lugar de ``while``?"
   ]
  },
  {
   "cell_type": "code",
   "execution_count": null,
   "metadata": {},
   "outputs": [],
   "source": [
    "# Modifique aquí el ejemplo, para que utilice for\n",
    "\n",
    "\n"
   ]
  },
  {
   "cell_type": "markdown",
   "metadata": {},
   "source": [
    "Con ayuda del instructor encuentre las instrucciones que se utilizan para prender las luces de tipo neopixel. Luego observando la cantidad de neopixels en la tarjeta:\n",
    "\n",
    "### Ejercicio de Neopixel\n",
    "\n",
    "#### 1. Prenda las luces una por una, realizando una pausa de un segundo.\n",
    "\n",
    "\n",
    "#### 2. Agregue un condicional con el switch\n",
    "\n",
    "Ahora, utilizando la condicional ``if``, agregue el código necesario para que solamente se prendan las luces, cuando el switch en la Playground esté activado.\n",
    "\n",
    "### Ejercicio de luz de noche\n",
    "\n",
    "#### 1. Realice un diagrama que defina como funciona una luz de noche\n",
    "\n",
    "#### 2. Programe la luz de noche, utilizando el sensor de luz\n"
   ]
  }
 ],
 "metadata": {
  "kernelspec": {
   "display_name": "Python 3 (ipykernel)",
   "language": "python",
   "name": "python3"
  },
  "language_info": {
   "codemirror_mode": {
    "name": "ipython",
    "version": 3
   },
   "file_extension": ".py",
   "mimetype": "text/x-python",
   "name": "python",
   "nbconvert_exporter": "python",
   "pygments_lexer": "ipython3",
   "version": "3.9.16"
  }
 },
 "nbformat": 4,
 "nbformat_minor": 2
}
