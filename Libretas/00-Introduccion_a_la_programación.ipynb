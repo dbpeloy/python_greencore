{
 "cells": [
  {
   "cell_type": "markdown",
   "metadata": {},
   "source": [
    "# Introducción a Programación\n",
    "\n",
    "Programar es cuando para cierto problema, creamos una **lista detallada de tareas** que lo resuelven.\n",
    "\n",
    "Algunos ejemplos clásicos usados para prensar en esta lista de tareas, o algoritmo, tenemos:\n",
    "\n",
    "- Como cocinar un huevo\n",
    "- Como abrir una puerta\n",
    "- Como dibujar una espiral\n",
    "\n",
    "Algo importante es que para que el algoritmo funcione correctamente, debe poder transmitirse a una persona o computadora que no haya resuelto el problema anteriormente, y debe funcionar sin problemas ni diferencia al ambiente donde se desarrolló.\n",
    "\n",
    "Para ir aprendiendo a plasmar nuestras ideas hacia código, tenemos herramientas como:\n",
    "\n",
    "- Pseudo código: Es básicamente una descripción de cada tarea, utilizando lenguaje natural. Es importante no profundizar en la forma en como un lenguaje específico resuelve un problema, dado que típicamente podemos traducir de pseudo código, a cualquier lenguaje. Como ejemplo: \"cambie el estado de la luz a APAGADO\", \"sume uno al contador\", \"muestre el resultado\".\n",
    "- Diagramas de flujo: Utilizan formas específicas para decir cuando hay una desición, una lectura de datos, una impresión en pantalla o un ciclo. Se recomienda realizar un diagrama de flujo donde se explora la funcionalidad lo más completa posible de nuestra aplicación. De esta forma sabemos la extensión de nuestro programa, podemos ir implementando por porciones pequeñas, y tenemos un mejor orden a la hora de programar.\n",
    "\n",
    "![Diagrama de flujo](https://upload.wikimedia.org/wikipedia/commons/3/3d/LampFlowchart_es.svg)\n",
    "\n",
    "- Diagramas de entidad-relación: Modelos como UML son utilizados para diseñar bases de datos.\n",
    "\n",
    "Se recomienda tanto para aprender a programar, como para programación real, utilizar dichas herramientas para tener una mejor idea del funcionamiento de nuestro programa, pero también para irnos introducciendo con el flujo de trabajo de una aplicación.\n",
    "\n",
    "Es una mala práctica comenzar a programar apenas se nos viene una idea a la cabeza, sino que es importante plantear esta idea primero en una etapa de **planeamiento**, donde logramos también plasmar los objetivos. Luego debemos pasar por etapas de **análisis** y **desición**, para hasta por fin comenzar a tocar código y herramientas de software cuando llegamos a la etapa de **implementación**.\n",
    "\n",
    "Sin embargo, una vez que la aplicación cumple su objetivo principal, no está completa, dado que debemos crear compomentes para darle mantenimiento a nuestra aplicación a lo largo de su vida útil como es agregar **pruebas** e **integración** con el resto de nuestra infraestructura. Es también buena práctica agregar desde el inicio herramientas para control de versiones como Git, las que dan facilidad de colaboración y auditoría en la etapa de **mantenimiento** de nuestra aplicación.\n",
    "\n",
    "## Lenguajes de programación\n",
    "\n",
    "La [historia y cantidad](https://en.wikipedia.org/wiki/History_of_programming_languages) de lenguajes de programación es impresionante. ¿Por qué razón darle atención a un lenguaje u otro?\n",
    "\n",
    "Para este curso hemos escogido Python por ser un lenguaje de **alto nivel** lo que quiere decir que es un lenguaje moderno donde no vamos a definir absolutamente toda la funcionalidad como sería el manejo detallado de memoria, y almacenamiento, sino que vamos a delegar gran parte de esto al sistema operativo y lenguaje de programación.\n",
    "\n",
    "A diferencia, tenemos lenguajes de menor nivel como el utilizado para darle mantenimiendo a computadoras como la IBM 360 de la UCR conocida como Matilde.\n",
    "\n",
    "![Libro sobre Matilde](http://www.editorial.ucr.ac.cr/media/k2/galleries/2480/p1crqgbosu3aq177t1unopnke8d4.jpg)\n",
    "\n",
    "Otra funcionalidad importante sobre el lenguaje que nos parece crítica para aprender a programar es el trabajar con lenguaje **interpretado** versus un lenguaje **compilado**.\n",
    "\n",
    "Tomando a Matilde de nuevo como ejemplo, para correr una aplicación primero debemos escribir el código fuente sin errores en tarjetas perforadas.\n",
    "\n",
    "![Tarjeta perforada](https://upload.wikimedia.org/wikipedia/commons/thumb/f/fe/Used_Punchcard_%285151286161%29.jpg/640px-Used_Punchcard_%285151286161%29.jpg)\n",
    "\n",
    "Luego introducimos las tarjetas en Matilde para pasarlas por la aplicación *preprocesadora* la cual revisa que la sintaxis del lenguaje sea el correcto. Luego debemos pasarlas por una aplicación compiladora, la cual comienza a traducir las instrucciones a un lenguaje más similar al utilizado por el procesador del equipo, para luego pasar por otra sección que traduce la aplicación hacia lenguaje de máquina conocido como ensamblador.\n",
    "\n",
    "Esto no es solo algo viejo, necesario para Matilde. Sino que para programar en C o C++, Pascal, Fortran, Cobol, Java, C# o Go, o incluso para programar tarjetas como un Arduino, debemos realizar exáctamente todos los mismos pasos, solo que sin las tarjetas perforadas, siendo necesario primero gastar de varios minutos a varias horas instalando y preparando el lenguaje, librerías, editores o hasta editores integrados para desarrollo conocidos como IDEs.\n",
    "\n",
    "El hecho de que Python sea un lenguaje interpretado, quiere decir si podemos ejecutar nuestra aplicación terminada, podemos también desarrollar y programarla en el mismo equipo sin necesidad de componentes adicionales, donde solamente necesitamos un editor de texto cualquiera. También podemos utilizar editores especializados e IDEs, sin embargo no es requerido.\n",
    "\n",
    "Vamos a estudiar incluso dos formas de programar en Python, utilizando el archivo de código conocido como ``code.py`` o ``main.py``, o también por una consola llamada REPL.\n",
    "\n",
    "Otros lenguajes interpretados pueden ser: Php (especial para sitios web), Ruby, Javascript, Lua, R, etc."
   ]
  }
 ],
 "metadata": {
  "kernelspec": {
   "display_name": "Python 3",
   "language": "python",
   "name": "python3"
  },
  "language_info": {
   "codemirror_mode": {
    "name": "ipython",
    "version": 3
   },
   "file_extension": ".py",
   "mimetype": "text/x-python",
   "name": "python",
   "nbconvert_exporter": "python",
   "pygments_lexer": "ipython3",
   "version": "3.7.3"
  }
 },
 "nbformat": 4,
 "nbformat_minor": 2
}
